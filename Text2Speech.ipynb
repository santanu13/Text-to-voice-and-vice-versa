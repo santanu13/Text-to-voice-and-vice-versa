{
 "cells": [
  {
   "cell_type": "code",
   "execution_count": null,
   "metadata": {},
   "outputs": [],
   "source": [
    "import tkinter as tk\n",
    "import pyttsx3\n",
    "\n",
    "engine = pyttsx3.init()\n",
    "\n",
    "class Widget():\n",
    "    def __init__(self):\n",
    "        self.root = tk.Tk()\n",
    "        self.root.title('Text-to-speech')\n",
    "        self.root.geometry('500x100')\n",
    "        self.root.resizable(0, 0)\n",
    "        self.label1 = tk.Label(self.root, text='What do you want me to speak?')\n",
    "        self.label1.pack()\n",
    "        self.entry = tk.Entry(self.root)\n",
    "        self.entry.pack()\n",
    "        self.button = tk.Button(self.root, text='Speak!', command=self.clicked)\n",
    "        self.button.pack()\n",
    "        self.root.mainloop()\n",
    "\n",
    "    def speak(self, text):\n",
    "        engine.say(text)\n",
    "        engine.runAndWait()\n",
    "\n",
    "    def clicked(self):\n",
    "        text = self.entry.get()\n",
    "        self.speak(text)\n",
    "\n",
    "if __name__ == '__main__':\n",
    "    widget = Widget()"
   ]
  }
 ],
 "metadata": {
  "kernelspec": {
   "display_name": "Python 3",
   "language": "python",
   "name": "python3"
  },
  "language_info": {
   "codemirror_mode": {
    "name": "ipython",
    "version": 3
   },
   "file_extension": ".py",
   "mimetype": "text/x-python",
   "name": "python",
   "nbconvert_exporter": "python",
   "pygments_lexer": "ipython3",
   "version": "3.6.7"
  }
 },
 "nbformat": 4,
 "nbformat_minor": 2
}
